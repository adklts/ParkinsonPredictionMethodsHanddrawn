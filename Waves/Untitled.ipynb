{
 "cells": [
  {
   "cell_type": "code",
   "execution_count": 1,
   "id": "7272de3e",
   "metadata": {},
   "outputs": [
    {
     "name": "stdout",
     "output_type": "stream",
     "text": [
      "Collecting owlready2\n",
      "  Downloading owlready2-0.48.tar.gz (27.3 MB)\n",
      "     ---------------------------------------- 0.0/27.3 MB ? eta -:--:--\n",
      "     ------- -------------------------------- 5.0/27.3 MB 27.4 MB/s eta 0:00:01\n",
      "     -------------- ------------------------ 10.0/27.3 MB 25.9 MB/s eta 0:00:01\n",
      "     ----------------- --------------------- 12.6/27.3 MB 21.3 MB/s eta 0:00:01\n",
      "     ---------------------- ---------------- 15.5/27.3 MB 18.7 MB/s eta 0:00:01\n",
      "     -------------------------- ------------ 18.4/27.3 MB 18.1 MB/s eta 0:00:01\n",
      "     ----------------------------- --------- 21.0/27.3 MB 16.8 MB/s eta 0:00:01\n",
      "     --------------------------------- ----- 23.3/27.3 MB 16.0 MB/s eta 0:00:01\n",
      "     ------------------------------------- - 26.0/27.3 MB 15.7 MB/s eta 0:00:01\n",
      "     --------------------------------------- 27.3/27.3 MB 14.9 MB/s eta 0:00:00\n",
      "  Installing build dependencies: started\n",
      "  Installing build dependencies: finished with status 'done'\n",
      "  Getting requirements to build wheel: started\n",
      "  Getting requirements to build wheel: finished with status 'done'\n",
      "  Preparing metadata (pyproject.toml): started\n",
      "  Preparing metadata (pyproject.toml): finished with status 'done'\n",
      "Building wheels for collected packages: owlready2\n",
      "  Building wheel for owlready2 (pyproject.toml): started\n",
      "  Building wheel for owlready2 (pyproject.toml): finished with status 'done'\n",
      "  Created wheel for owlready2: filename=owlready2-0.48-py3-none-any.whl size=23788325 sha256=1ef49d53b5bbad3e5ef9e413bf63e543950fc6f5af83b5ed8349c99b01f2709a\n",
      "  Stored in directory: c:\\users\\adklt\\appdata\\local\\pip\\cache\\wheels\\2a\\4f\\b2\\88d834aab03077e1611b46825f45c06ac4db07b77ee45eadd5\n",
      "Successfully built owlready2\n",
      "Installing collected packages: owlready2\n",
      "Successfully installed owlready2-0.48\n"
     ]
    }
   ],
   "source": [
    "!pip install owlready2"
   ]
  },
  {
   "cell_type": "code",
   "execution_count": 2,
   "id": "109f7005",
   "metadata": {},
   "outputs": [
    {
     "name": "stderr",
     "output_type": "stream",
     "text": [
      "\n",
      "Warning: SQLite3 version 3.40.0 and 3.41.2 have huge performance regressions; please install version 3.41.1 or 3.42!\n",
      "\n",
      "* Owlready2 * Running HermiT...\n",
      "    java -Xmx2000M -cp C:\\Users\\adklt\\anaconda3\\Lib\\site-packages\\owlready2\\hermit;C:\\Users\\adklt\\anaconda3\\Lib\\site-packages\\owlready2\\hermit\\HermiT.jar org.semanticweb.HermiT.cli.CommandLine -c -O -D -I file:///C:/Users/adklt/AppData/Local/Temp/tmpka9qkcx8\n"
     ]
    },
    {
     "name": "stdout",
     "output_type": "stream",
     "text": [
      "✅ Inferred classes exported to inferred_classes.csv\n"
     ]
    },
    {
     "name": "stderr",
     "output_type": "stream",
     "text": [
      "* Owlready2 * HermiT took 11.843846082687378 seconds\n",
      "* Owlready * (NB: only changes on entities loaded in Python are shown, other changes are done but not listed)\n"
     ]
    }
   ],
   "source": [
    "from owlready2 import *\n",
    "\n",
    "# === LOAD YOUR OWL FILE ===\n",
    "onto = get_ontology(\"PhDTestv14Wavesv4new.owl\").load()  # replace with your filename\n",
    "\n",
    "# === RUN REASONER (HermiT-style) ===\n",
    "with onto:\n",
    "    sync_reasoner()  # runs HermiT-style logic in the background\n",
    "\n",
    "# === EXPORT INDIVIDUAL → INFERRED CLASSES ===\n",
    "with open(\"inferred_classes.csv\", \"w\") as f:\n",
    "    f.write(\"Individual,InferredClasses\\n\")\n",
    "    for individual in onto.individuals():\n",
    "        inferred_classes = [cls.name for cls in individual.is_a if \"Thing\" not in cls.name]\n",
    "        f.write(f\"{individual.name},{'; '.join(inferred_classes)}\\n\")\n",
    "\n",
    "print(\"✅ Inferred classes exported to inferred_classes.csv\")\n"
   ]
  },
  {
   "cell_type": "code",
   "execution_count": null,
   "id": "43631b35",
   "metadata": {},
   "outputs": [],
   "source": []
  }
 ],
 "metadata": {
  "kernelspec": {
   "display_name": "Python 3 (ipykernel)",
   "language": "python",
   "name": "python3"
  },
  "language_info": {
   "codemirror_mode": {
    "name": "ipython",
    "version": 3
   },
   "file_extension": ".py",
   "mimetype": "text/x-python",
   "name": "python",
   "nbconvert_exporter": "python",
   "pygments_lexer": "ipython3",
   "version": "3.11.5"
  }
 },
 "nbformat": 4,
 "nbformat_minor": 5
}
