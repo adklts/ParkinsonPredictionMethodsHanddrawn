{
 "cells": [
  {
   "cell_type": "code",
   "execution_count": 1,
   "id": "9ee60510",
   "metadata": {},
   "outputs": [
    {
     "name": "stdout",
     "output_type": "stream",
     "text": [
      "Requirement already satisfied: owlready2 in c:\\users\\adklt\\anaconda3\\lib\\site-packages (0.48)\n"
     ]
    }
   ],
   "source": [
    "!pip install owlready2\n"
   ]
  },
  {
   "cell_type": "code",
   "execution_count": 3,
   "id": "0cfaaaa6",
   "metadata": {},
   "outputs": [
    {
     "name": "stderr",
     "output_type": "stream",
     "text": [
      "* Owlready2 * Running HermiT...\n",
      "    java -Xmx2000M -cp C:\\Users\\adklt\\anaconda3\\Lib\\site-packages\\owlready2\\hermit;C:\\Users\\adklt\\anaconda3\\Lib\\site-packages\\owlready2\\hermit\\HermiT.jar org.semanticweb.HermiT.cli.CommandLine -c -O -D -I file:///C:/Users/adklt/AppData/Local/Temp/tmpm3mm7_b4\n"
     ]
    },
    {
     "name": "stdout",
     "output_type": "stream",
     "text": [
      "✅ Only classified individuals exported to classified_individuals.csv\n"
     ]
    },
    {
     "name": "stderr",
     "output_type": "stream",
     "text": [
      "* Owlready2 * HermiT took 6.024403095245361 seconds\n",
      "* Owlready * Reparenting Fuzzy Spiral final New.V55HE11: {Fuzzy Spiral final New.SmoothnessHigh, Fuzzy Spiral final New.SignalEntropyLow, Fuzzy Spiral final New.WaveEnergyLow, Fuzzy Spiral final New.Measurement} => {Fuzzy Spiral final New.SmoothnessHigh, Fuzzy Spiral final New.SignalEntropyLow, Fuzzy Spiral final New.WaveEnergyLow}\n",
      "* Owlready * Reparenting Fuzzy Spiral final New.V09PE02_I: {Fuzzy Spiral final New.ParkinsonianSeverityMedium, Fuzzy Spiral final New.ParkinsonianSeverityHigh, Fuzzy Spiral final New.Individuals, Fuzzy Spiral final New.HealthyStatusLow} => {Fuzzy Spiral final New.ParkinsonianSeverityMedium, Fuzzy Spiral final New.ParkinsonianSeverityHigh, Fuzzy Spiral final New.HealthyStatusLow}\n",
      "* Owlready * Reparenting Fuzzy Spiral final New.V55HE03_I: {Fuzzy Spiral final New.ParkinsonianSeverityMedium, Fuzzy Spiral final New.Individuals, Fuzzy Spiral final New.HealthyStatusMedium} => {Fuzzy Spiral final New.ParkinsonianSeverityMedium, Fuzzy Spiral final New.HealthyStatusMedium}\n",
      "* Owlready * Reparenting Fuzzy Spiral final New.V10HE03: {Fuzzy Spiral final New.WaveEnergyMedium, Fuzzy Spiral final New.SignalEntropyHigh, Fuzzy Spiral final New.Measurement, Fuzzy Spiral final New.SmoothnessMedium} => {Fuzzy Spiral final New.WaveEnergyMedium, Fuzzy Spiral final New.SignalEntropyHigh, Fuzzy Spiral final New.SmoothnessMedium}\n",
      "* Owlready * Reparenting Fuzzy Spiral final New.V07HE02_I: {Fuzzy Spiral final New.ParkinsonianSeverityLow, Fuzzy Spiral final New.Individuals, Fuzzy Spiral final New.HealthyStatusHigh} => {Fuzzy Spiral final New.ParkinsonianSeverityLow, Fuzzy Spiral final New.HealthyStatusHigh}\n",
      "* Owlready * Reparenting Fuzzy Spiral final New.V02HE03_I: {Fuzzy Spiral final New.ParkinsonianSeverityMedium, Fuzzy Spiral final New.Individuals, Fuzzy Spiral final New.HealthyStatusLow} => {Fuzzy Spiral final New.ParkinsonianSeverityMedium, Fuzzy Spiral final New.HealthyStatusLow}\n",
      "* Owlready * Reparenting Fuzzy Spiral final New.V10HE02: {Fuzzy Spiral final New.WaveEnergyLow, Fuzzy Spiral final New.Measurement, Fuzzy Spiral final New.SmoothnessHigh, Fuzzy Spiral final New.SignalEntropyLow, Fuzzy Spiral final New.SignalEntropyMedium} => {Fuzzy Spiral final New.SmoothnessHigh, Fuzzy Spiral final New.SignalEntropyLow, Fuzzy Spiral final New.WaveEnergyLow, Fuzzy Spiral final New.SignalEntropyMedium}\n",
      "* Owlready * Reparenting Fuzzy Spiral final New.V01PE03_I: {Fuzzy Spiral final New.ParkinsonianSeverityMedium, Fuzzy Spiral final New.Individuals} => {Fuzzy Spiral final New.ParkinsonianSeverityMedium}\n",
      "* Owlready * Reparenting Fuzzy Spiral final New.V07PE03_I: {Fuzzy Spiral final New.ParkinsonianSeverityMedium, Fuzzy Spiral final New.Individuals} => {Fuzzy Spiral final New.ParkinsonianSeverityMedium}\n",
      "* Owlready * Reparenting Fuzzy Spiral final New.V04PE03_I: {Fuzzy Spiral final New.ParkinsonianSeverityHigh, Fuzzy Spiral final New.Individuals, Fuzzy Spiral final New.HealthyStatusLow} => {Fuzzy Spiral final New.ParkinsonianSeverityHigh, Fuzzy Spiral final New.HealthyStatusLow}\n",
      "* Owlready * Reparenting Fuzzy Spiral final New.V08HE03_I: {Fuzzy Spiral final New.ParkinsonianSeverityLow, Fuzzy Spiral final New.Individuals, Fuzzy Spiral final New.HealthyStatusHigh} => {Fuzzy Spiral final New.ParkinsonianSeverityLow, Fuzzy Spiral final New.HealthyStatusHigh}\n",
      "* Owlready * Reparenting Fuzzy Spiral final New.V03PE02_I: {Fuzzy Spiral final New.ParkinsonianSeverityLow, Fuzzy Spiral final New.Individuals, Fuzzy Spiral final New.HealthyStatusHigh} => {Fuzzy Spiral final New.ParkinsonianSeverityLow, Fuzzy Spiral final New.HealthyStatusHigh}\n",
      "* Owlready * Reparenting Fuzzy Spiral final New.V13PE01_I: {Fuzzy Spiral final New.ParkinsonianSeverityLow, Fuzzy Spiral final New.Individuals, Fuzzy Spiral final New.HealthyStatusHigh} => {Fuzzy Spiral final New.ParkinsonianSeverityLow, Fuzzy Spiral final New.HealthyStatusHigh}\n",
      "* Owlready * Reparenting Fuzzy Spiral final New.V55HE11_I: {Fuzzy Spiral final New.ParkinsonianSeverityLow, Fuzzy Spiral final New.HealthyStatusMedium, Fuzzy Spiral final New.Individuals} => {Fuzzy Spiral final New.ParkinsonianSeverityLow, Fuzzy Spiral final New.HealthyStatusMedium}\n",
      "* Owlready * Reparenting Fuzzy Spiral final New.V01HE02_I: {Fuzzy Spiral final New.ParkinsonianSeverityLow, Fuzzy Spiral final New.Individuals, Fuzzy Spiral final New.HealthyStatusHigh} => {Fuzzy Spiral final New.ParkinsonianSeverityLow, Fuzzy Spiral final New.HealthyStatusHigh}\n",
      "* Owlready * Reparenting Fuzzy Spiral final New.V11PE02_I: {Fuzzy Spiral final New.ParkinsonianSeverityHigh, Fuzzy Spiral final New.Individuals, Fuzzy Spiral final New.HealthyStatusLow} => {Fuzzy Spiral final New.ParkinsonianSeverityHigh, Fuzzy Spiral final New.HealthyStatusLow}\n",
      "* Owlready * Reparenting Fuzzy Spiral final New.V10PE01: {Fuzzy Spiral final New.SmoothnessHigh, Fuzzy Spiral final New.SignalEntropyLow, Fuzzy Spiral final New.WaveEnergyLow, Fuzzy Spiral final New.Measurement} => {Fuzzy Spiral final New.SmoothnessHigh, Fuzzy Spiral final New.SignalEntropyLow, Fuzzy Spiral final New.WaveEnergyLow}\n",
      "* Owlready * Reparenting Fuzzy Spiral final New.V10PE01_I: {Fuzzy Spiral final New.ParkinsonianSeverityLow, Fuzzy Spiral final New.HealthyStatusMedium, Fuzzy Spiral final New.Individuals} => {Fuzzy Spiral final New.ParkinsonianSeverityLow, Fuzzy Spiral final New.HealthyStatusMedium}\n",
      "* Owlready * Reparenting Fuzzy Spiral final New.V12HE02_I: {Fuzzy Spiral final New.ParkinsonianSeverityHigh, Fuzzy Spiral final New.ParkinsonianSeverityLow, Fuzzy Spiral final New.Individuals, Fuzzy Spiral final New.HealthyStatusLow, Fuzzy Spiral final New.ParkinsonianSeverityMedium} => {Fuzzy Spiral final New.ParkinsonianSeverityLow, Fuzzy Spiral final New.ParkinsonianSeverityMedium, Fuzzy Spiral final New.ParkinsonianSeverityHigh, Fuzzy Spiral final New.HealthyStatusLow}\n",
      "* Owlready * Reparenting Fuzzy Spiral final New.V03PE06_I: {Fuzzy Spiral final New.ParkinsonianSeverityMedium, Fuzzy Spiral final New.Individuals, Fuzzy Spiral final New.HealthyStatusMedium} => {Fuzzy Spiral final New.ParkinsonianSeverityMedium, Fuzzy Spiral final New.HealthyStatusMedium}\n",
      "* Owlready * Reparenting Fuzzy Spiral final New.V04HE02: {Fuzzy Spiral final New.WaveEnergyLow, Fuzzy Spiral final New.Measurement, Fuzzy Spiral final New.SmoothnessHigh, Fuzzy Spiral final New.SignalEntropyLow, Fuzzy Spiral final New.SmoothnessMedium} => {Fuzzy Spiral final New.SmoothnessHigh, Fuzzy Spiral final New.SignalEntropyLow, Fuzzy Spiral final New.WaveEnergyLow, Fuzzy Spiral final New.SmoothnessMedium}\n",
      "* Owlready * Reparenting Fuzzy Spiral final New.V04HE02_I: {Fuzzy Spiral final New.ParkinsonianSeverityLow, Fuzzy Spiral final New.HealthyStatusMedium, Fuzzy Spiral final New.Individuals} => {Fuzzy Spiral final New.ParkinsonianSeverityLow, Fuzzy Spiral final New.HealthyStatusMedium}\n",
      "* Owlready * Reparenting Fuzzy Spiral final New.V06HE03: {Fuzzy Spiral final New.WaveEnergyLow, Fuzzy Spiral final New.WaveEnergyMedium, Fuzzy Spiral final New.Measurement, Fuzzy Spiral final New.SmoothnessHigh, Fuzzy Spiral final New.SignalEntropyLow} => {Fuzzy Spiral final New.SmoothnessHigh, Fuzzy Spiral final New.WaveEnergyMedium, Fuzzy Spiral final New.SignalEntropyLow, Fuzzy Spiral final New.WaveEnergyLow}\n",
      "* Owlready * Reparenting Fuzzy Spiral final New.V55HE04_I: {Fuzzy Spiral final New.ParkinsonianSeverityLow, Fuzzy Spiral final New.Individuals, Fuzzy Spiral final New.HealthyStatusHigh} => {Fuzzy Spiral final New.ParkinsonianSeverityLow, Fuzzy Spiral final New.HealthyStatusHigh}\n",
      "* Owlready * Reparenting Fuzzy Spiral final New.V07HE03_I: {Fuzzy Spiral final New.ParkinsonianSeverityLow, Fuzzy Spiral final New.ParkinsonianSeverityMedium, Fuzzy Spiral final New.Individuals, Fuzzy Spiral final New.HealthyStatusLow} => {Fuzzy Spiral final New.ParkinsonianSeverityLow, Fuzzy Spiral final New.ParkinsonianSeverityMedium, Fuzzy Spiral final New.HealthyStatusLow}\n",
      "* Owlready * Reparenting Fuzzy Spiral final New.V02PE03_I: {Fuzzy Spiral final New.ParkinsonianSeverityHigh, Fuzzy Spiral final New.Individuals, Fuzzy Spiral final New.HealthyStatusLow} => {Fuzzy Spiral final New.ParkinsonianSeverityHigh, Fuzzy Spiral final New.HealthyStatusLow}\n",
      "* Owlready * Reparenting Fuzzy Spiral final New.V14PE01: {Fuzzy Spiral final New.SignalEntropyLow, Fuzzy Spiral final New.SmoothnessLow, Fuzzy Spiral final New.Measurement} => {Fuzzy Spiral final New.SignalEntropyLow, Fuzzy Spiral final New.SmoothnessLow}\n",
      "* Owlready * Reparenting Fuzzy Spiral final New.V12PE01_I: {Fuzzy Spiral final New.ParkinsonianSeverityLow, Fuzzy Spiral final New.HealthyStatusMedium, Fuzzy Spiral final New.Individuals} => {Fuzzy Spiral final New.ParkinsonianSeverityLow, Fuzzy Spiral final New.HealthyStatusMedium}\n",
      "* Owlready * Reparenting Fuzzy Spiral final New.V55HE08_I: {Fuzzy Spiral final New.ParkinsonianSeverityHigh, Fuzzy Spiral final New.Individuals, Fuzzy Spiral final New.HealthyStatusLow} => {Fuzzy Spiral final New.ParkinsonianSeverityHigh, Fuzzy Spiral final New.HealthyStatusLow}\n",
      "* Owlready * Reparenting Fuzzy Spiral final New.V01PE02_I: {Fuzzy Spiral final New.HealthyStatusHigh, Fuzzy Spiral final New.ParkinsonianSeverityLow, Fuzzy Spiral final New.Individuals, Fuzzy Spiral final New.HealthyStatusMedium, Fuzzy Spiral final New.ParkinsonianSeverityMedium} => {Fuzzy Spiral final New.ParkinsonianSeverityLow, Fuzzy Spiral final New.ParkinsonianSeverityMedium, Fuzzy Spiral final New.HealthyStatusMedium, Fuzzy Spiral final New.HealthyStatusHigh}\n",
      "* Owlready * Reparenting Fuzzy Spiral final New.V07PE02_I: {Fuzzy Spiral final New.ParkinsonianSeverityLow, Fuzzy Spiral final New.HealthyStatusMedium, Fuzzy Spiral final New.Individuals} => {Fuzzy Spiral final New.ParkinsonianSeverityLow, Fuzzy Spiral final New.HealthyStatusMedium}\n",
      "* Owlready * Reparenting Fuzzy Spiral final New.V14PE02_I: {Fuzzy Spiral final New.ParkinsonianSeverityHigh, Fuzzy Spiral final New.Individuals, Fuzzy Spiral final New.HealthyStatusLow} => {Fuzzy Spiral final New.ParkinsonianSeverityHigh, Fuzzy Spiral final New.HealthyStatusLow}\n",
      "* Owlready * Reparenting Fuzzy Spiral final New.V06HE02_I: {Fuzzy Spiral final New.ParkinsonianSeverityLow, Fuzzy Spiral final New.HealthyStatusMedium, Fuzzy Spiral final New.Individuals, Fuzzy Spiral final New.HealthyStatusLow} => {Fuzzy Spiral final New.ParkinsonianSeverityLow, Fuzzy Spiral final New.HealthyStatusMedium, Fuzzy Spiral final New.HealthyStatusLow}\n",
      "* Owlready * Reparenting Fuzzy Spiral final New.V55HE01: {Fuzzy Spiral final New.SmoothnessHigh, Fuzzy Spiral final New.SignalEntropyHigh, Fuzzy Spiral final New.WaveEnergyLow, Fuzzy Spiral final New.Measurement} => {Fuzzy Spiral final New.SmoothnessHigh, Fuzzy Spiral final New.SignalEntropyHigh, Fuzzy Spiral final New.WaveEnergyLow}\n",
      "* Owlready * Reparenting Fuzzy Spiral final New.V13PE02_I: {Fuzzy Spiral final New.ParkinsonianSeverityLow, Fuzzy Spiral final New.Individuals, Fuzzy Spiral final New.HealthyStatusHigh} => {Fuzzy Spiral final New.ParkinsonianSeverityLow, Fuzzy Spiral final New.HealthyStatusHigh}\n",
      "* Owlready * Reparenting Fuzzy Spiral final New.V03PE03_I: {Fuzzy Spiral final New.ParkinsonianSeverityMedium, Fuzzy Spiral final New.Individuals} => {Fuzzy Spiral final New.ParkinsonianSeverityMedium}\n",
      "* Owlready * Reparenting Fuzzy Spiral final New.V11HE02_I: {Fuzzy Spiral final New.HealthyStatusHigh, Fuzzy Spiral final New.ParkinsonianSeverityLow, Fuzzy Spiral final New.Individuals, Fuzzy Spiral final New.HealthyStatusMedium, Fuzzy Spiral final New.ParkinsonianSeverityMedium} => {Fuzzy Spiral final New.ParkinsonianSeverityLow, Fuzzy Spiral final New.ParkinsonianSeverityMedium, Fuzzy Spiral final New.HealthyStatusMedium, Fuzzy Spiral final New.HealthyStatusHigh}\n",
      "* Owlready * Reparenting Fuzzy Spiral final New.V11PE01_I: {Fuzzy Spiral final New.ParkinsonianSeverityMedium, Fuzzy Spiral final New.Individuals, Fuzzy Spiral final New.HealthyStatusMedium} => {Fuzzy Spiral final New.ParkinsonianSeverityMedium, Fuzzy Spiral final New.HealthyStatusMedium}\n",
      "* Owlready * Reparenting Fuzzy Spiral final New.V55HE07: {Fuzzy Spiral final New.SignalEntropyLow, Fuzzy Spiral final New.WaveEnergyLow, Fuzzy Spiral final New.Measurement, Fuzzy Spiral final New.SmoothnessMedium} => {Fuzzy Spiral final New.SignalEntropyLow, Fuzzy Spiral final New.WaveEnergyLow, Fuzzy Spiral final New.SmoothnessMedium}\n",
      "* Owlready * Reparenting Fuzzy Spiral final New.V55HE06: {Fuzzy Spiral final New.SmoothnessHigh, Fuzzy Spiral final New.SignalEntropyLow, Fuzzy Spiral final New.WaveEnergyLow, Fuzzy Spiral final New.Measurement} => {Fuzzy Spiral final New.SmoothnessHigh, Fuzzy Spiral final New.SignalEntropyLow, Fuzzy Spiral final New.WaveEnergyLow}\n",
      "* Owlready * Reparenting Fuzzy Spiral final New.V55HE05: {Fuzzy Spiral final New.SmoothnessHigh, Fuzzy Spiral final New.SignalEntropyHigh, Fuzzy Spiral final New.WaveEnergyLow, Fuzzy Spiral final New.Measurement} => {Fuzzy Spiral final New.SmoothnessHigh, Fuzzy Spiral final New.SignalEntropyHigh, Fuzzy Spiral final New.WaveEnergyLow}\n",
      "* Owlready * Reparenting Fuzzy Spiral final New.V01HE03_I: {Fuzzy Spiral final New.ParkinsonianSeverityLow, Fuzzy Spiral final New.Individuals, Fuzzy Spiral final New.HealthyStatusHigh} => {Fuzzy Spiral final New.ParkinsonianSeverityLow, Fuzzy Spiral final New.HealthyStatusHigh}\n",
      "* Owlready * Reparenting Fuzzy Spiral final New.V12PE01: {Fuzzy Spiral final New.SmoothnessHigh, Fuzzy Spiral final New.SignalEntropyLow, Fuzzy Spiral final New.WaveEnergyLow, Fuzzy Spiral final New.Measurement} => {Fuzzy Spiral final New.SmoothnessHigh, Fuzzy Spiral final New.SignalEntropyLow, Fuzzy Spiral final New.WaveEnergyLow}\n",
      "* Owlready * Reparenting Fuzzy Spiral final New.V12HE03_I: {Fuzzy Spiral final New.ParkinsonianSeverityLow, Fuzzy Spiral final New.Individuals, Fuzzy Spiral final New.HealthyStatusHigh} => {Fuzzy Spiral final New.ParkinsonianSeverityLow, Fuzzy Spiral final New.HealthyStatusHigh}\n",
      "* Owlready * Reparenting Fuzzy Spiral final New.V15PE03_I: {Fuzzy Spiral final New.ParkinsonianSeverityMedium, Fuzzy Spiral final New.Individuals, Fuzzy Spiral final New.HealthyStatusLow} => {Fuzzy Spiral final New.ParkinsonianSeverityMedium, Fuzzy Spiral final New.HealthyStatusLow}\n",
      "* Owlready * Reparenting Fuzzy Spiral final New.V08HE03: {Fuzzy Spiral final New.SmoothnessHigh, Fuzzy Spiral final New.SignalEntropyHigh, Fuzzy Spiral final New.WaveEnergyLow, Fuzzy Spiral final New.Measurement} => {Fuzzy Spiral final New.SmoothnessHigh, Fuzzy Spiral final New.SignalEntropyHigh, Fuzzy Spiral final New.WaveEnergyLow}\n",
      "* Owlready * Reparenting Fuzzy Spiral final New.V03HE2_I: {Fuzzy Spiral final New.ParkinsonianSeverityLow, Fuzzy Spiral final New.Individuals, Fuzzy Spiral final New.HealthyStatusHigh} => {Fuzzy Spiral final New.ParkinsonianSeverityLow, Fuzzy Spiral final New.HealthyStatusHigh}\n",
      "* Owlready * Reparenting Fuzzy Spiral final New.V08PE02_I: {Fuzzy Spiral final New.ParkinsonianSeverityMedium, Fuzzy Spiral final New.ParkinsonianSeverityHigh, Fuzzy Spiral final New.Individuals, Fuzzy Spiral final New.HealthyStatusLow} => {Fuzzy Spiral final New.ParkinsonianSeverityMedium, Fuzzy Spiral final New.ParkinsonianSeverityHigh, Fuzzy Spiral final New.HealthyStatusLow}\n",
      "* Owlready * Reparenting Fuzzy Spiral final New.V10HE02_I: {Fuzzy Spiral final New.ParkinsonianSeverityLow, Fuzzy Spiral final New.HealthyStatusMedium, Fuzzy Spiral final New.Individuals, Fuzzy Spiral final New.HealthyStatusHigh} => {Fuzzy Spiral final New.ParkinsonianSeverityLow, Fuzzy Spiral final New.HealthyStatusMedium, Fuzzy Spiral final New.HealthyStatusHigh}\n",
      "* Owlready * Reparenting Fuzzy Spiral final New.V55HE05_I: {Fuzzy Spiral final New.ParkinsonianSeverityLow, Fuzzy Spiral final New.Individuals, Fuzzy Spiral final New.HealthyStatusHigh} => {Fuzzy Spiral final New.ParkinsonianSeverityLow, Fuzzy Spiral final New.HealthyStatusHigh}\n",
      "* Owlready * Reparenting Fuzzy Spiral final New.V55HE01_I: {Fuzzy Spiral final New.ParkinsonianSeverityLow, Fuzzy Spiral final New.Individuals, Fuzzy Spiral final New.HealthyStatusHigh} => {Fuzzy Spiral final New.ParkinsonianSeverityLow, Fuzzy Spiral final New.HealthyStatusHigh}\n",
      "* Owlready * Reparenting Fuzzy Spiral final New.V02PE02_I: {Fuzzy Spiral final New.ParkinsonianSeverityHigh, Fuzzy Spiral final New.Individuals, Fuzzy Spiral final New.HealthyStatusLow} => {Fuzzy Spiral final New.ParkinsonianSeverityHigh, Fuzzy Spiral final New.HealthyStatusLow}\n",
      "* Owlready * Reparenting Fuzzy Spiral final New.V12PE02_I: {Fuzzy Spiral final New.ParkinsonianSeverityLow, Fuzzy Spiral final New.Individuals, Fuzzy Spiral final New.HealthyStatusHigh} => {Fuzzy Spiral final New.ParkinsonianSeverityLow, Fuzzy Spiral final New.HealthyStatusHigh}\n",
      "* Owlready * Reparenting Fuzzy Spiral final New.V55HE09_I: {Fuzzy Spiral final New.ParkinsonianSeverityMedium, Fuzzy Spiral final New.Individuals, Fuzzy Spiral final New.HealthyStatusLow} => {Fuzzy Spiral final New.ParkinsonianSeverityMedium, Fuzzy Spiral final New.HealthyStatusLow}\n",
      "* Owlready * Reparenting Fuzzy Spiral final New.V11HE02: {Fuzzy Spiral final New.WaveEnergyLow, Fuzzy Spiral final New.Measurement, Fuzzy Spiral final New.SmoothnessHigh, Fuzzy Spiral final New.SignalEntropyLow, Fuzzy Spiral final New.SignalEntropyMedium, Fuzzy Spiral final New.SmoothnessMedium} => {Fuzzy Spiral final New.WaveEnergyLow, Fuzzy Spiral final New.SmoothnessHigh, Fuzzy Spiral final New.SignalEntropyLow, Fuzzy Spiral final New.SignalEntropyMedium, Fuzzy Spiral final New.SmoothnessMedium}\n",
      "* Owlready * Reparenting Fuzzy Spiral final New.V03PE05: {Fuzzy Spiral final New.WaveEnergyHigh, Fuzzy Spiral final New.WaveEnergyMedium, Fuzzy Spiral final New.Measurement, Fuzzy Spiral final New.SignalEntropyLow, Fuzzy Spiral final New.SmoothnessMedium} => {Fuzzy Spiral final New.WaveEnergyHigh, Fuzzy Spiral final New.WaveEnergyMedium, Fuzzy Spiral final New.SignalEntropyLow, Fuzzy Spiral final New.SmoothnessMedium}\n",
      "* Owlready * Reparenting Fuzzy Spiral final New.V13PE03_I: {Fuzzy Spiral final New.ParkinsonianSeverityLow, Fuzzy Spiral final New.Individuals, Fuzzy Spiral final New.HealthyStatusHigh} => {Fuzzy Spiral final New.ParkinsonianSeverityLow, Fuzzy Spiral final New.HealthyStatusHigh}\n",
      "* Owlready * Reparenting Fuzzy Spiral final New.V06HE03_I: {Fuzzy Spiral final New.ParkinsonianSeverityLow, Fuzzy Spiral final New.HealthyStatusMedium, Fuzzy Spiral final New.Individuals, Fuzzy Spiral final New.HealthyStatusLow} => {Fuzzy Spiral final New.ParkinsonianSeverityLow, Fuzzy Spiral final New.HealthyStatusMedium, Fuzzy Spiral final New.HealthyStatusLow}\n",
      "* Owlready * Reparenting Fuzzy Spiral final New.V03PE02: {Fuzzy Spiral final New.WaveEnergyMedium, Fuzzy Spiral final New.SignalEntropyHigh, Fuzzy Spiral final New.Measurement, Fuzzy Spiral final New.SmoothnessMedium} => {Fuzzy Spiral final New.WaveEnergyMedium, Fuzzy Spiral final New.SignalEntropyHigh, Fuzzy Spiral final New.SmoothnessMedium}\n",
      "* Owlready * Reparenting Fuzzy Spiral final New.V05PE03_I: {Fuzzy Spiral final New.ParkinsonianSeverityHigh, Fuzzy Spiral final New.Individuals, Fuzzy Spiral final New.HealthyStatusLow} => {Fuzzy Spiral final New.ParkinsonianSeverityHigh, Fuzzy Spiral final New.HealthyStatusLow}\n",
      "* Owlready * Reparenting Fuzzy Spiral final New.V11HE03_I: {Fuzzy Spiral final New.ParkinsonianSeverityHigh, Fuzzy Spiral final New.Individuals, Fuzzy Spiral final New.HealthyStatusLow} => {Fuzzy Spiral final New.ParkinsonianSeverityHigh, Fuzzy Spiral final New.HealthyStatusLow}\n",
      "* Owlready * Reparenting Fuzzy Spiral final New.V09HE03_I: {Fuzzy Spiral final New.ParkinsonianSeverityLow, Fuzzy Spiral final New.Individuals, Fuzzy Spiral final New.HealthyStatusHigh} => {Fuzzy Spiral final New.ParkinsonianSeverityLow, Fuzzy Spiral final New.HealthyStatusHigh}\n",
      "* Owlready * Reparenting Fuzzy Spiral final New.V15PE02_I: {Fuzzy Spiral final New.ParkinsonianSeverityMedium, Fuzzy Spiral final New.Individuals, Fuzzy Spiral final New.HealthyStatusLow} => {Fuzzy Spiral final New.ParkinsonianSeverityMedium, Fuzzy Spiral final New.HealthyStatusLow}\n",
      "* Owlready * Reparenting Fuzzy Spiral final New.V03HE3_I: {Fuzzy Spiral final New.ParkinsonianSeverityHigh, Fuzzy Spiral final New.Individuals, Fuzzy Spiral final New.HealthyStatusLow} => {Fuzzy Spiral final New.ParkinsonianSeverityHigh, Fuzzy Spiral final New.HealthyStatusLow}\n",
      "* Owlready * Reparenting Fuzzy Spiral final New.V03PE08_I: {Fuzzy Spiral final New.ParkinsonianSeverityLow, Fuzzy Spiral final New.HealthyStatusMedium, Fuzzy Spiral final New.Individuals} => {Fuzzy Spiral final New.ParkinsonianSeverityLow, Fuzzy Spiral final New.HealthyStatusMedium}\n",
      "* Owlready * Reparenting Fuzzy Spiral final New.V10HE03_I: {Fuzzy Spiral final New.ParkinsonianSeverityLow, Fuzzy Spiral final New.Individuals, Fuzzy Spiral final New.HealthyStatusHigh} => {Fuzzy Spiral final New.ParkinsonianSeverityLow, Fuzzy Spiral final New.HealthyStatusHigh}\n",
      "* Owlready * Reparenting Fuzzy Spiral final New.V55HE06_I: {Fuzzy Spiral final New.ParkinsonianSeverityLow, Fuzzy Spiral final New.HealthyStatusMedium, Fuzzy Spiral final New.Individuals} => {Fuzzy Spiral final New.ParkinsonianSeverityLow, Fuzzy Spiral final New.HealthyStatusMedium}\n",
      "* Owlready * Reparenting Fuzzy Spiral final New.V55HE02_I: {Fuzzy Spiral final New.ParkinsonianSeverityLow, Fuzzy Spiral final New.Individuals, Fuzzy Spiral final New.HealthyStatusHigh} => {Fuzzy Spiral final New.ParkinsonianSeverityLow, Fuzzy Spiral final New.HealthyStatusHigh}\n",
      "* Owlready * Reparenting Fuzzy Spiral final New.V02HE02_I: {Fuzzy Spiral final New.ParkinsonianSeverityMedium, Fuzzy Spiral final New.Individuals, Fuzzy Spiral final New.HealthyStatusLow} => {Fuzzy Spiral final New.ParkinsonianSeverityMedium, Fuzzy Spiral final New.HealthyStatusLow}\n",
      "* Owlready * Reparenting Fuzzy Spiral final New.V07HE03: {Fuzzy Spiral final New.WaveEnergyHigh, Fuzzy Spiral final New.WaveEnergyMedium, Fuzzy Spiral final New.SmoothnessLow, Fuzzy Spiral final New.SignalEntropyHigh, Fuzzy Spiral final New.Measurement} => {Fuzzy Spiral final New.WaveEnergyHigh, Fuzzy Spiral final New.WaveEnergyMedium, Fuzzy Spiral final New.SignalEntropyHigh, Fuzzy Spiral final New.SmoothnessLow}\n",
      "* Owlready * Reparenting Fuzzy Spiral final New.V12PE03_I: {Fuzzy Spiral final New.ParkinsonianSeverityMedium, Fuzzy Spiral final New.Individuals, Fuzzy Spiral final New.HealthyStatusLow} => {Fuzzy Spiral final New.ParkinsonianSeverityMedium, Fuzzy Spiral final New.HealthyStatusLow}\n",
      "* Owlready * Reparenting Fuzzy Spiral final New.V07PE02: {Fuzzy Spiral final New.SmoothnessHigh, Fuzzy Spiral final New.SignalEntropyLow, Fuzzy Spiral final New.WaveEnergyLow, Fuzzy Spiral final New.Measurement} => {Fuzzy Spiral final New.SmoothnessHigh, Fuzzy Spiral final New.SignalEntropyLow, Fuzzy Spiral final New.WaveEnergyLow}\n",
      "* Owlready * Reparenting Fuzzy Spiral final New.V04PE02_I: {Fuzzy Spiral final New.ParkinsonianSeverityMedium, Fuzzy Spiral final New.Individuals, Fuzzy Spiral final New.HealthyStatusLow} => {Fuzzy Spiral final New.ParkinsonianSeverityMedium, Fuzzy Spiral final New.HealthyStatusLow}\n",
      "* Owlready * Reparenting Fuzzy Spiral final New.V08HE02_I: {Fuzzy Spiral final New.Individuals, Fuzzy Spiral final New.HealthyStatusHigh} => {Fuzzy Spiral final New.HealthyStatusHigh}\n",
      "* Owlready * Reparenting Fuzzy Spiral final New.V09HE03: {Fuzzy Spiral final New.SmoothnessHigh, Fuzzy Spiral final New.SignalEntropyHigh, Fuzzy Spiral final New.WaveEnergyLow, Fuzzy Spiral final New.Measurement} => {Fuzzy Spiral final New.SmoothnessHigh, Fuzzy Spiral final New.SignalEntropyHigh, Fuzzy Spiral final New.WaveEnergyLow}\n",
      "* Owlready * Reparenting Fuzzy Spiral final New.V09HE02: {Fuzzy Spiral final New.SmoothnessHigh, Fuzzy Spiral final New.SignalEntropyLow, Fuzzy Spiral final New.WaveEnergyLow, Fuzzy Spiral final New.Measurement} => {Fuzzy Spiral final New.SmoothnessHigh, Fuzzy Spiral final New.SignalEntropyLow, Fuzzy Spiral final New.WaveEnergyLow}\n",
      "* Owlready * Reparenting Fuzzy Spiral final New.V09HE02_I: {Fuzzy Spiral final New.ParkinsonianSeverityLow, Fuzzy Spiral final New.HealthyStatusMedium, Fuzzy Spiral final New.Individuals} => {Fuzzy Spiral final New.ParkinsonianSeverityLow, Fuzzy Spiral final New.HealthyStatusMedium}\n",
      "* Owlready * Reparenting Fuzzy Spiral final New.V12HE01_I: {Fuzzy Spiral final New.ParkinsonianSeverityLow, Fuzzy Spiral final New.Individuals, Fuzzy Spiral final New.HealthyStatusHigh} => {Fuzzy Spiral final New.ParkinsonianSeverityLow, Fuzzy Spiral final New.HealthyStatusHigh}\n",
      "* Owlready * Reparenting Fuzzy Spiral final New.V10PE02_I: {Fuzzy Spiral final New.Individuals, Fuzzy Spiral final New.HealthyStatusHigh} => {Fuzzy Spiral final New.HealthyStatusHigh}\n",
      "* Owlready * Reparenting Fuzzy Spiral final New.V05PE02_I: {Fuzzy Spiral final New.ParkinsonianSeverityMedium, Fuzzy Spiral final New.Individuals, Fuzzy Spiral final New.HealthyStatusLow} => {Fuzzy Spiral final New.ParkinsonianSeverityMedium, Fuzzy Spiral final New.HealthyStatusLow}\n",
      "* Owlready * Reparenting Fuzzy Spiral final New.V55HE10_I: {Fuzzy Spiral final New.ParkinsonianSeverityLow, Fuzzy Spiral final New.Individuals, Fuzzy Spiral final New.HealthyStatusHigh} => {Fuzzy Spiral final New.ParkinsonianSeverityLow, Fuzzy Spiral final New.HealthyStatusHigh}\n",
      "* Owlready * Reparenting Fuzzy Spiral final New.V03PE09_I: {Fuzzy Spiral final New.ParkinsonianSeverityLow, Fuzzy Spiral final New.ParkinsonianSeverityMedium, Fuzzy Spiral final New.Individuals, Fuzzy Spiral final New.HealthyStatusLow} => {Fuzzy Spiral final New.ParkinsonianSeverityLow, Fuzzy Spiral final New.ParkinsonianSeverityMedium, Fuzzy Spiral final New.HealthyStatusLow}\n",
      "* Owlready * Reparenting Fuzzy Spiral final New.V13PE01: {Fuzzy Spiral final New.SmoothnessHigh, Fuzzy Spiral final New.SignalEntropyHigh, Fuzzy Spiral final New.WaveEnergyLow, Fuzzy Spiral final New.Measurement} => {Fuzzy Spiral final New.SmoothnessHigh, Fuzzy Spiral final New.SignalEntropyHigh, Fuzzy Spiral final New.WaveEnergyLow}\n",
      "* Owlready * Reparenting Fuzzy Spiral final New.V03PE05_I: {Fuzzy Spiral final New.ParkinsonianSeverityMedium, Fuzzy Spiral final New.ParkinsonianSeverityHigh, Fuzzy Spiral final New.Individuals} => {Fuzzy Spiral final New.ParkinsonianSeverityMedium, Fuzzy Spiral final New.ParkinsonianSeverityHigh}\n",
      "* Owlready * (NB: only changes on entities loaded in Python are shown, other changes are done but not listed)\n"
     ]
    }
   ],
   "source": [
    "from owlready2 import *\n",
    "\n",
    "# === LOAD YOUR OWL FILE ===\n",
    "onto = get_ontology(\"Fuzzy Spiral final New.owl\").load()  # replace with your filename\n",
    "\n",
    "# Run reasoner\n",
    "with onto:\n",
    "    sync_reasoner()  # performs classification\n",
    "\n",
    "# Export individuals that have inferred class types\n",
    "with open(\"classified_individuals.csv\", \"w\") as f:\n",
    "    f.write(\"IndividualName,InferredClass\\n\")\n",
    "    for ind in onto.individuals():\n",
    "        # Filter out trivial classes like 'owl:Thing'\n",
    "        inferred = [cls.name for cls in ind.is_a if \"Thing\" not in cls.name and not cls.name.startswith(\"owl\")]\n",
    "        if inferred:\n",
    "            f.write(f\"{ind.name},{'; '.join(inferred)}\\n\")\n",
    "\n",
    "print(\"✅ Only classified individuals exported to classified_individuals.csv\")\n",
    "\n"
   ]
  },
  {
   "cell_type": "code",
   "execution_count": null,
   "id": "167be16b",
   "metadata": {},
   "outputs": [],
   "source": []
  }
 ],
 "metadata": {
  "kernelspec": {
   "display_name": "Python 3 (ipykernel)",
   "language": "python",
   "name": "python3"
  },
  "language_info": {
   "codemirror_mode": {
    "name": "ipython",
    "version": 3
   },
   "file_extension": ".py",
   "mimetype": "text/x-python",
   "name": "python",
   "nbconvert_exporter": "python",
   "pygments_lexer": "ipython3",
   "version": "3.11.5"
  }
 },
 "nbformat": 4,
 "nbformat_minor": 5
}
