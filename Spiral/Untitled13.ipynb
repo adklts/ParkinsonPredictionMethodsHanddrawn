{
 "cells": [
  {
   "cell_type": "code",
   "execution_count": 2,
   "id": "ad4c3a6b",
   "metadata": {},
   "outputs": [
    {
     "name": "stderr",
     "output_type": "stream",
     "text": [
      "* Owlready2 * Running HermiT...\n",
      "    java -Xmx2000M -cp C:\\Users\\adklt\\anaconda3\\Lib\\site-packages\\owlready2\\hermit;C:\\Users\\adklt\\anaconda3\\Lib\\site-packages\\owlready2\\hermit\\HermiT.jar org.semanticweb.HermiT.cli.CommandLine -c -O -D -I file:///C:/Users/adklt/AppData/Local/Temp/tmph8jxi5d4\n"
     ]
    },
    {
     "name": "stdout",
     "output_type": "stream",
     "text": [
      "✅ Only classified individuals exported to classified_individuals.csv\n"
     ]
    },
    {
     "name": "stderr",
     "output_type": "stream",
     "text": [
      "* Owlready2 * HermiT took 5.507078170776367 seconds\n",
      "* Owlready * Reparenting FSPHD.P_09100001_I: {FSPHD.ParkinsoniansSeverityHigh, FSPHD.HealthyStatusMedium, FSPHD.Individuals} => {FSPHD.ParkinsoniansSeverityHigh, FSPHD.HealthyStatusMedium}\n",
      "* Owlready * Reparenting FSPHD.P_09100003_I: {FSPHD.ParkinsoniansSeverityHigh, FSPHD.HealthyStatusMedium, FSPHD.Individuals} => {FSPHD.ParkinsoniansSeverityHigh, FSPHD.HealthyStatusMedium}\n",
      "* Owlready * Reparenting FSPHD.P_09100005_I: {FSPHD.ParkinsoniansSeverityHigh, FSPHD.HealthyStatusMedium, FSPHD.Individuals} => {FSPHD.ParkinsoniansSeverityHigh, FSPHD.HealthyStatusMedium}\n",
      "* Owlready * Reparenting FSPHD.P_09100003_M: {FSPHD.AveragePressureMedium, FSPHD.AverageSpeedLow, FSPHD.Measurement, FSPHD.SegmentLengthHigh} => {FSPHD.AveragePressureMedium, FSPHD.AverageSpeedLow, FSPHD.SegmentLengthHigh}\n",
      "* Owlready * Reparenting FSPHD.P_05060004_M: {FSPHD.AveragePressureMedium, FSPHD.AverageSpeedLow, FSPHD.Measurement, FSPHD.SegmentLengthHigh} => {FSPHD.AveragePressureMedium, FSPHD.AverageSpeedLow, FSPHD.SegmentLengthHigh}\n",
      "* Owlready * Reparenting FSPHD.C_0013_M: {FSPHD.SegmentLengthLow, FSPHD.Measurement, FSPHD.AverageSpeedHigh, FSPHD.AveragePressureLow} => {FSPHD.SegmentLengthLow, FSPHD.AveragePressureLow, FSPHD.AverageSpeedHigh}\n",
      "* Owlready * Reparenting FSPHD.C_0011_M: {FSPHD.AverageSpeedLow, FSPHD.Measurement, FSPHD.AveragePressureHigh, FSPHD.SegmentLengthHigh} => {FSPHD.AverageSpeedLow, FSPHD.AveragePressureHigh, FSPHD.SegmentLengthHigh}\n",
      "* Owlready * Reparenting FSPHD.C_0015_I: {FSPHD.Individuals, FSPHD.ParkinsoniansSeverityMedium, FSPHD.HealthyStatusLow} => {FSPHD.ParkinsoniansSeverityMedium, FSPHD.HealthyStatusLow}\n",
      "* Owlready * Reparenting FSPHD.C_0003_I: {FSPHD.Individuals, FSPHD.HealthyStatusHigh} => {FSPHD.HealthyStatusHigh}\n",
      "* Owlready * Reparenting FSPHD.C_0001_I: {FSPHD.HealthyStatusMedium, FSPHD.Individuals, FSPHD.ParkinsoniansSeverityLow} => {FSPHD.HealthyStatusMedium, FSPHD.ParkinsoniansSeverityLow}\n",
      "* Owlready * Reparenting FSPHD.P_26060001_I: {FSPHD.Individuals, FSPHD.ParkinsoniansSeverityMedium} => {FSPHD.ParkinsoniansSeverityMedium}\n",
      "* Owlready * Reparenting FSPHD.P_12060002_M: {FSPHD.AveragePressureLow, FSPHD.Measurement, FSPHD.AverageSpeedHigh, FSPHD.SegmentLengthHigh} => {FSPHD.AveragePressureLow, FSPHD.AverageSpeedHigh, FSPHD.SegmentLengthHigh}\n",
      "* Owlready * Reparenting FSPHD.P_26060001_M: {FSPHD.AveragePressureMedium, FSPHD.Measurement, FSPHD.AverageSpeedHigh, FSPHD.SegmentLengthHigh} => {FSPHD.AveragePressureMedium, FSPHD.AverageSpeedHigh, FSPHD.SegmentLengthHigh}\n",
      "* Owlready * Reparenting FSPHD.P_27110001_I: {FSPHD.Individuals, FSPHD.ParkinsoniansSeverityMedium, FSPHD.HealthyStatusLow} => {FSPHD.ParkinsoniansSeverityMedium, FSPHD.HealthyStatusLow}\n",
      "* Owlready * Reparenting FSPHD.P_26060003_I: {FSPHD.ParkinsoniansSeverityHigh, FSPHD.Individuals, FSPHD.ParkinsoniansSeverityMedium} => {FSPHD.ParkinsoniansSeverityHigh, FSPHD.ParkinsoniansSeverityMedium}\n",
      "* Owlready * Reparenting FSPHD.P_27110003_I: {FSPHD.ParkinsoniansSeverityHigh, FSPHD.HealthyStatusMedium, FSPHD.Individuals} => {FSPHD.ParkinsoniansSeverityHigh, FSPHD.HealthyStatusMedium}\n",
      "* Owlready * Reparenting FSPHD.P_12060002_I: {FSPHD.ParkinsoniansSeverityHigh, FSPHD.Individuals} => {FSPHD.ParkinsoniansSeverityHigh}\n",
      "* Owlready * Reparenting FSPHD.P_30100002_I: {FSPHD.Individuals, FSPHD.ParkinsoniansSeverityMedium, FSPHD.HealthyStatusLow} => {FSPHD.ParkinsoniansSeverityMedium, FSPHD.HealthyStatusLow}\n",
      "* Owlready * Reparenting FSPHD.P_16100003_I: {FSPHD.Individuals, FSPHD.ParkinsoniansSeverityMedium, FSPHD.HealthyStatusLow} => {FSPHD.ParkinsoniansSeverityMedium, FSPHD.HealthyStatusLow}\n",
      "* Owlready * Reparenting FSPHD.C_0007_M: {FSPHD.SegmentLengthLow, FSPHD.Measurement, FSPHD.AverageSpeedHigh, FSPHD.AveragePressureHigh} => {FSPHD.SegmentLengthLow, FSPHD.AverageSpeedHigh, FSPHD.AveragePressureHigh}\n",
      "* Owlready * Reparenting FSPHD.P_02100001_I: {FSPHD.HealthyStatusMedium, FSPHD.Individuals, FSPHD.ParkinsoniansSeverityLow} => {FSPHD.HealthyStatusMedium, FSPHD.ParkinsoniansSeverityLow}\n",
      "* Owlready * Reparenting FSPHD.C_0005_M: {FSPHD.SegmentLengthLow, FSPHD.Measurement, FSPHD.AverageSpeedHigh, FSPHD.AveragePressureHigh} => {FSPHD.SegmentLengthLow, FSPHD.AverageSpeedHigh, FSPHD.AveragePressureHigh}\n",
      "* Owlready * Reparenting FSPHD.C_0009_I: {FSPHD.ParkinsoniansSeverityHigh, FSPHD.HealthyStatusMedium, FSPHD.Individuals} => {FSPHD.ParkinsoniansSeverityHigh, FSPHD.HealthyStatusMedium}\n",
      "* Owlready * Reparenting FSPHD.C_0007_I: {FSPHD.HealthyStatusMedium, FSPHD.Individuals, FSPHD.ParkinsoniansSeverityLow} => {FSPHD.HealthyStatusMedium, FSPHD.ParkinsoniansSeverityLow}\n",
      "* Owlready * Reparenting FSPHD.C_0003_M: {FSPHD.AverageSpeedLow, FSPHD.Measurement, FSPHD.AveragePressureHigh, FSPHD.SegmentLengthHigh} => {FSPHD.AverageSpeedLow, FSPHD.AveragePressureHigh, FSPHD.SegmentLengthHigh}\n",
      "* Owlready * Reparenting FSPHD.C_0005_I: {FSPHD.HealthyStatusMedium, FSPHD.Individuals, FSPHD.ParkinsoniansSeverityLow} => {FSPHD.HealthyStatusMedium, FSPHD.ParkinsoniansSeverityLow}\n",
      "* Owlready * Reparenting FSPHD.C_0014_I: {FSPHD.Individuals, FSPHD.ParkinsoniansSeverityLow, FSPHD.HealthyStatusHigh} => {FSPHD.ParkinsoniansSeverityLow, FSPHD.HealthyStatusHigh}\n",
      "* Owlready * Reparenting FSPHD.P_11120005_M: {FSPHD.AveragePressureLow, FSPHD.AverageSpeedHigh, FSPHD.AveragePressureMedium, FSPHD.SegmentLengthLow, FSPHD.Measurement} => {FSPHD.AveragePressureMedium, FSPHD.SegmentLengthLow, FSPHD.AveragePressureLow, FSPHD.AverageSpeedHigh}\n",
      "* Owlready * Reparenting FSPHD.P_05060003_I: {FSPHD.ParkinsoniansSeverityHigh, FSPHD.Individuals, FSPHD.ParkinsoniansSeverityLow, FSPHD.HealthyStatusHigh} => {FSPHD.ParkinsoniansSeverityHigh, FSPHD.ParkinsoniansSeverityLow, FSPHD.HealthyStatusHigh}\n",
      "* Owlready * Reparenting FSPHD.P_11120003_I: {FSPHD.Individuals, FSPHD.ParkinsoniansSeverityMedium} => {FSPHD.ParkinsoniansSeverityMedium}\n",
      "* Owlready * Reparenting FSPHD.P_11120005_I: {FSPHD.ParkinsoniansSeverityHigh, FSPHD.Individuals, FSPHD.ParkinsoniansSeverityLow, FSPHD.HealthyStatusHigh} => {FSPHD.ParkinsoniansSeverityHigh, FSPHD.ParkinsoniansSeverityLow, FSPHD.HealthyStatusHigh}\n",
      "* Owlready * Reparenting FSPHD.P_23100003_I: {FSPHD.Individuals, FSPHD.ParkinsoniansSeverityMedium, FSPHD.HealthyStatusLow} => {FSPHD.ParkinsoniansSeverityMedium, FSPHD.HealthyStatusLow}\n",
      "* Owlready * Reparenting FSPHD.P_05060003_M: {FSPHD.AveragePressureLow, FSPHD.AverageSpeedHigh, FSPHD.AveragePressureMedium, FSPHD.SegmentLengthLow, FSPHD.Measurement} => {FSPHD.AveragePressureMedium, FSPHD.SegmentLengthLow, FSPHD.AveragePressureLow, FSPHD.AverageSpeedHigh}\n",
      "* Owlready * Reparenting FSPHD.C_0014_M: {FSPHD.SegmentLengthLow, FSPHD.Measurement, FSPHD.AverageSpeedHigh, FSPHD.AveragePressureLow} => {FSPHD.SegmentLengthLow, FSPHD.AveragePressureLow, FSPHD.AverageSpeedHigh}\n",
      "* Owlready * Reparenting FSPHD.P_12060001_I: {FSPHD.ParkinsoniansSeverityHigh, FSPHD.HealthyStatusMedium, FSPHD.Individuals, FSPHD.ParkinsoniansSeverityLow} => {FSPHD.ParkinsoniansSeverityHigh, FSPHD.HealthyStatusMedium, FSPHD.ParkinsoniansSeverityLow}\n",
      "* Owlready * Reparenting FSPHD.P_26060002_I: {FSPHD.Individuals, FSPHD.ParkinsoniansSeverityLow, FSPHD.HealthyStatusHigh} => {FSPHD.ParkinsoniansSeverityLow, FSPHD.HealthyStatusHigh}\n",
      "* Owlready * Reparenting FSPHD.P_12060001_M: {FSPHD.AverageSpeedHigh, FSPHD.AveragePressureHigh, FSPHD.AveragePressureMedium, FSPHD.SegmentLengthLow, FSPHD.Measurement} => {FSPHD.AveragePressureMedium, FSPHD.SegmentLengthLow, FSPHD.AverageSpeedHigh, FSPHD.AveragePressureHigh}\n",
      "* Owlready * Reparenting FSPHD.P_26060006_I: {FSPHD.ParkinsoniansSeverityHigh, FSPHD.Individuals} => {FSPHD.ParkinsoniansSeverityHigh}\n",
      "* Owlready * Reparenting FSPHD.P_16100004_I: {FSPHD.Individuals, FSPHD.ParkinsoniansSeverityMedium} => {FSPHD.ParkinsoniansSeverityMedium}\n",
      "* Owlready * Reparenting FSPHD.P_26060003_M: {FSPHD.AverageSpeedHigh, FSPHD.AveragePressureMedium, FSPHD.AveragePressureLow, FSPHD.Measurement, FSPHD.SegmentLengthHigh} => {FSPHD.AveragePressureMedium, FSPHD.AveragePressureLow, FSPHD.AverageSpeedHigh, FSPHD.SegmentLengthHigh}\n",
      "* Owlready * Reparenting FSPHD.P_26060007_I: {FSPHD.Individuals, FSPHD.ParkinsoniansSeverityMedium} => {FSPHD.ParkinsoniansSeverityMedium}\n",
      "* Owlready * Reparenting FSPHD.C_0008_I: {FSPHD.ParkinsoniansSeverityHigh, FSPHD.HealthyStatusMedium, FSPHD.Individuals, FSPHD.ParkinsoniansSeverityMedium} => {FSPHD.ParkinsoniansSeverityHigh, FSPHD.HealthyStatusMedium, FSPHD.ParkinsoniansSeverityMedium}\n",
      "* Owlready * Reparenting FSPHD.P_02100002_I: {FSPHD.ParkinsoniansSeverityHigh, FSPHD.Individuals} => {FSPHD.ParkinsoniansSeverityHigh}\n",
      "* Owlready * Reparenting FSPHD.P_16100004_M: {FSPHD.AveragePressureLow, FSPHD.AverageSpeedLow, FSPHD.Measurement, FSPHD.SegmentLengthHigh} => {FSPHD.AverageSpeedLow, FSPHD.AveragePressureLow, FSPHD.SegmentLengthHigh}\n",
      "* Owlready * Reparenting FSPHD.C_0013_I: {FSPHD.Individuals, FSPHD.ParkinsoniansSeverityLow, FSPHD.HealthyStatusHigh} => {FSPHD.ParkinsoniansSeverityLow, FSPHD.HealthyStatusHigh}\n",
      "* Owlready * Reparenting FSPHD.C_0011_I: {FSPHD.Individuals, FSPHD.HealthyStatusHigh} => {FSPHD.HealthyStatusHigh}\n",
      "* Owlready * Reparenting FSPHD.P_05060004_I: {FSPHD.ParkinsoniansSeverityHigh, FSPHD.HealthyStatusMedium, FSPHD.Individuals} => {FSPHD.ParkinsoniansSeverityHigh, FSPHD.HealthyStatusMedium}\n",
      "* Owlready * Reparenting FSPHD.P_30100001_M: {FSPHD.AveragePressureMedium, FSPHD.Measurement, FSPHD.AverageSpeedHigh, FSPHD.AveragePressureHigh} => {FSPHD.AveragePressureMedium, FSPHD.AverageSpeedHigh, FSPHD.AveragePressureHigh}\n",
      "* Owlready * (NB: only changes on entities loaded in Python are shown, other changes are done but not listed)\n"
     ]
    }
   ],
   "source": [
    "from owlready2 import *\n",
    "\n",
    "# === LOAD YOUR OWL FILE ===\n",
    "onto = get_ontology(\"FSPHD.owl\").load()  # replace with your filename\n",
    "\n",
    "\n",
    "# Run reasoner\n",
    "with onto:\n",
    "    sync_reasoner()\n",
    "\n",
    "# Define keywords to ignore\n",
    "ignore_classes = [\"Measurement\", \"Individuals\", \"Thing\", \"Patient\", \"Segment\", \"Observation\"]\n",
    "\n",
    "# Export only semantically relevant inferred types\n",
    "with open(\"classified_individuals_filtered.csv\", \"w\") as f:\n",
    "    f.write(\"IndividualName,InferredClass\\n\")\n",
    "    for ind in onto.individuals():\n",
    "        inferred = [cls.name for cls in ind.is_a \n",
    "                    if not any(skip in cls.name for skip in ignore_classes)]\n",
    "        if inferred:\n",
    "            f.write(f\"{ind.name},{'; '.join(inferred)}\\n\")\n",
    "\n",
    "print(\"✅ Filtered classification export created: classified_individuals_filtered.csv\")"
   ]
  },
  {
   "cell_type": "code",
   "execution_count": null,
   "id": "bdd3253b",
   "metadata": {},
   "outputs": [],
   "source": []
  }
 ],
 "metadata": {
  "kernelspec": {
   "display_name": "Python 3 (ipykernel)",
   "language": "python",
   "name": "python3"
  },
  "language_info": {
   "codemirror_mode": {
    "name": "ipython",
    "version": 3
   },
   "file_extension": ".py",
   "mimetype": "text/x-python",
   "name": "python",
   "nbconvert_exporter": "python",
   "pygments_lexer": "ipython3",
   "version": "3.11.5"
  }
 },
 "nbformat": 4,
 "nbformat_minor": 5
}
